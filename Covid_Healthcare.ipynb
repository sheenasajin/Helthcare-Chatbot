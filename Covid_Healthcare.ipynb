{
 "cells": [
  {
   "cell_type": "code",
   "execution_count": 3,
   "id": "48440f02",
   "metadata": {},
   "outputs": [
    {
     "name": "stdout",
     "output_type": "stream",
     "text": [
      "Collecting newspaper3k\n",
      "  Downloading newspaper3k-0.2.8-py3-none-any.whl (211 kB)\n",
      "Requirement already satisfied: PyYAML>=3.11 in c:\\users\\sajin\\anaconda3\\lib\\site-packages (from newspaper3k) (5.4.1)\n",
      "Requirement already satisfied: beautifulsoup4>=4.4.1 in c:\\users\\sajin\\anaconda3\\lib\\site-packages (from newspaper3k) (4.9.3)\n",
      "Requirement already satisfied: nltk>=3.2.1 in c:\\users\\sajin\\anaconda3\\lib\\site-packages (from newspaper3k) (3.6.1)\n",
      "Collecting tldextract>=2.0.1\n",
      "  Using cached tldextract-3.1.0-py2.py3-none-any.whl (87 kB)\n",
      "Collecting feedfinder2>=0.0.4\n",
      "  Using cached feedfinder2-0.0.4.tar.gz (3.3 kB)\n",
      "Requirement already satisfied: lxml>=3.6.0 in c:\\users\\sajin\\anaconda3\\lib\\site-packages (from newspaper3k) (4.6.3)\n",
      "Requirement already satisfied: python-dateutil>=2.5.3 in c:\\users\\sajin\\anaconda3\\lib\\site-packages (from newspaper3k) (2.8.1)\n",
      "Collecting feedparser>=5.2.1\n",
      "  Downloading feedparser-6.0.8-py3-none-any.whl (81 kB)\n",
      "Collecting tinysegmenter==0.3\n",
      "  Downloading tinysegmenter-0.3.tar.gz (16 kB)\n",
      "Requirement already satisfied: Pillow>=3.3.0 in c:\\users\\sajin\\anaconda3\\lib\\site-packages (from newspaper3k) (8.2.0)\n",
      "Collecting jieba3k>=0.35.1\n",
      "  Downloading jieba3k-0.35.1.zip (7.4 MB)\n",
      "Requirement already satisfied: requests>=2.10.0 in c:\\users\\sajin\\anaconda3\\lib\\site-packages (from newspaper3k) (2.25.1)\n",
      "Collecting cssselect>=0.9.2\n",
      "  Downloading cssselect-1.1.0-py2.py3-none-any.whl (16 kB)\n",
      "Requirement already satisfied: soupsieve>1.2 in c:\\users\\sajin\\anaconda3\\lib\\site-packages (from beautifulsoup4>=4.4.1->newspaper3k) (2.2.1)\n",
      "Requirement already satisfied: six in c:\\users\\sajin\\anaconda3\\lib\\site-packages (from feedfinder2>=0.0.4->newspaper3k) (1.15.0)\n",
      "Collecting sgmllib3k\n",
      "  Downloading sgmllib3k-1.0.0.tar.gz (5.8 kB)\n",
      "Requirement already satisfied: click in c:\\users\\sajin\\anaconda3\\lib\\site-packages (from nltk>=3.2.1->newspaper3k) (7.1.2)\n",
      "Requirement already satisfied: tqdm in c:\\users\\sajin\\anaconda3\\lib\\site-packages (from nltk>=3.2.1->newspaper3k) (4.59.0)\n",
      "Requirement already satisfied: joblib in c:\\users\\sajin\\anaconda3\\lib\\site-packages (from nltk>=3.2.1->newspaper3k) (1.0.1)\n",
      "Requirement already satisfied: regex in c:\\users\\sajin\\anaconda3\\lib\\site-packages (from nltk>=3.2.1->newspaper3k) (2021.4.4)\n",
      "Requirement already satisfied: idna<3,>=2.5 in c:\\users\\sajin\\anaconda3\\lib\\site-packages (from requests>=2.10.0->newspaper3k) (2.10)\n",
      "Requirement already satisfied: chardet<5,>=3.0.2 in c:\\users\\sajin\\anaconda3\\lib\\site-packages (from requests>=2.10.0->newspaper3k) (4.0.0)\n",
      "Requirement already satisfied: urllib3<1.27,>=1.21.1 in c:\\users\\sajin\\anaconda3\\lib\\site-packages (from requests>=2.10.0->newspaper3k) (1.26.4)\n",
      "Requirement already satisfied: certifi>=2017.4.17 in c:\\users\\sajin\\anaconda3\\lib\\site-packages (from requests>=2.10.0->newspaper3k) (2020.12.5)\n",
      "Collecting requests-file>=1.4\n",
      "  Downloading requests_file-1.5.1-py2.py3-none-any.whl (3.7 kB)\n",
      "Requirement already satisfied: filelock>=3.0.8 in c:\\users\\sajin\\anaconda3\\lib\\site-packages (from tldextract>=2.0.1->newspaper3k) (3.0.12)\n",
      "Building wheels for collected packages: tinysegmenter, feedfinder2, jieba3k, sgmllib3k\n",
      "  Building wheel for tinysegmenter (setup.py): started\n",
      "  Building wheel for tinysegmenter (setup.py): finished with status 'done'\n",
      "  Created wheel for tinysegmenter: filename=tinysegmenter-0.3-py3-none-any.whl size=13537 sha256=0193e15d0089ccc5d78a498e5d43df30a91d397dbd0b864b316108f9a8011fcf\n",
      "  Stored in directory: c:\\users\\sajin\\appdata\\local\\pip\\cache\\wheels\\99\\74\\83\\8fac1c8d9c648cfabebbbffe97a889f6624817f3aa0bbe6c09\n",
      "  Building wheel for feedfinder2 (setup.py): started\n",
      "  Building wheel for feedfinder2 (setup.py): finished with status 'done'\n",
      "  Created wheel for feedfinder2: filename=feedfinder2-0.0.4-py3-none-any.whl size=3354 sha256=a71be6c3ece227a7d1f32fdadf4728ec58995f8636b1fd6fd6ad762723dd3703\n",
      "  Stored in directory: c:\\users\\sajin\\appdata\\local\\pip\\cache\\wheels\\b6\\09\\68\\a9f15498ac02c23dde29f18745bc6a6f574ba4ab41861a3575\n",
      "  Building wheel for jieba3k (setup.py): started\n",
      "  Building wheel for jieba3k (setup.py): finished with status 'done'\n",
      "  Created wheel for jieba3k: filename=jieba3k-0.35.1-py3-none-any.whl size=7398406 sha256=1c17b06873fc6a14bb0d72c6e2bd2e79cd5e96693a1f2cac5b90a3550e64c8a0\n",
      "  Stored in directory: c:\\users\\sajin\\appdata\\local\\pip\\cache\\wheels\\1f\\7e\\0c\\54f3b0f5164278677899f2db08f2b07943ce2d024a3c862afb\n",
      "  Building wheel for sgmllib3k (setup.py): started\n",
      "  Building wheel for sgmllib3k (setup.py): finished with status 'done'\n",
      "  Created wheel for sgmllib3k: filename=sgmllib3k-1.0.0-py3-none-any.whl size=6065 sha256=760abc7f1e49f1738e4b6c64f3189bba600fd1532af9edbe2d30383c92171ad5\n",
      "Note: you may need to restart the kernel to use updated packages.  Stored in directory: c:\\users\\sajin\\appdata\\local\\pip\\cache\\wheels\\83\\63\\2f\\117884c3b19d46b64d3d61690333aa80c88dc14050e269c546\n",
      "Successfully built tinysegmenter feedfinder2 jieba3k sgmllib3k\n",
      "Installing collected packages: sgmllib3k, requests-file, tldextract, tinysegmenter, jieba3k, feedparser, feedfinder2, cssselect, newspaper3k\n",
      "Successfully installed cssselect-1.1.0 feedfinder2-0.0.4 feedparser-6.0.8 jieba3k-0.35.1 newspaper3k-0.2.8 requests-file-1.5.1 sgmllib3k-1.0.0 tinysegmenter-0.3 tldextract-3.1.0\n",
      "\n"
     ]
    }
   ],
   "source": [
    "pip install newspaper3k\n"
   ]
  },
  {
   "cell_type": "code",
   "execution_count": 4,
   "id": "eef4e767",
   "metadata": {},
   "outputs": [],
   "source": [
    "from newspaper import Article\n",
    "import random\n",
    "import string\n",
    "import nltk\n",
    "from sklearn.feature_extraction.text import CountVectorizer\n",
    "from sklearn.metrics.pairwise import cosine_similarity\n",
    "import numpy as np\n",
    "import requests\n",
    "import bs4\n",
    "import warnings\n",
    "warnings.filterwarnings('ignore')"
   ]
  },
  {
   "cell_type": "code",
   "execution_count": 5,
   "id": "19c939b7",
   "metadata": {},
   "outputs": [
    {
     "name": "stderr",
     "output_type": "stream",
     "text": [
      "[nltk_data] Downloading package wordnet to\n",
      "[nltk_data]     C:\\Users\\SAJIN\\AppData\\Roaming\\nltk_data...\n",
      "[nltk_data]   Package wordnet is already up-to-date!\n"
     ]
    },
    {
     "data": {
      "text/plain": [
       "True"
      ]
     },
     "execution_count": 5,
     "metadata": {},
     "output_type": "execute_result"
    }
   ],
   "source": [
    "nltk.download('punkt',quiet=True)\n",
    "nltk.download('wordnet')"
   ]
  },
  {
   "cell_type": "code",
   "execution_count": 6,
   "id": "0409f80f",
   "metadata": {},
   "outputs": [],
   "source": [
    "res=requests.get('https://www.who.int/emergencies/diseases/novel-coronavirus-2019/question-and-answers-hub/q-a-detail/coronavirus-disease-covid-19')"
   ]
  },
  {
   "cell_type": "code",
   "execution_count": 7,
   "id": "60b6dd87",
   "metadata": {},
   "outputs": [
    {
     "name": "stdout",
     "output_type": "stream",
     "text": [
      "['COVID-19', 'is', 'the', 'disease', 'caused', 'by', 'a', 'new', 'coronavirus', 'called', 'SARS-CoV-2', '.', 'WHO', 'first', 'learned', 'of', 'this', 'new', 'virus', 'on', '31', 'December', '2019', ',', 'following', 'a', 'report', 'of', 'a', 'cluster', 'of', 'cases', 'of', '‘', 'viral', 'pneumonia', '’', 'in', 'Wuhan', ',', 'People', '’', 's', 'Republic', 'of', 'China', '.', 'The', 'most', 'common', 'symptoms', 'of', 'COVID-19', 'areFeverDry', 'coughFatigueOther', 'symptoms', 'that', 'are', 'less', 'common', 'and', 'may', 'affect', 'some', 'patients', 'include', ':', 'Loss', 'of', 'taste', 'or', 'smell', ',', 'Nasal', 'congestion', ',', 'Conjunctivitis', '(', 'also', 'known', 'as', 'red', 'eyes', ')', 'Sore', 'throat', ',', 'Headache', ',', 'Muscle', 'or', 'joint', 'pain', ',', 'Different', 'types', 'of', 'skin', 'rash', ',', 'Nausea', 'or', 'vomiting', ',', 'Diarrhea', ',', 'Chills', 'or', 'dizziness', '.', 'Symptoms', 'of', 'severe', 'COVID‐19', 'disease', 'include', ':', 'Shortness', 'of', 'breath', ',', 'Loss', 'of', 'appetite', ',', 'Confusion', ',', 'Persistent', 'pain', 'or', 'pressure', 'in', 'the', 'chest', ',', 'High', 'temperature', '(', 'above', '38', '°C', ')', '.Other', 'less', 'common', 'symptoms', 'are', ':', 'Irritability', ',', 'Confusion', ',', 'Reduced', 'consciousness', '(', 'sometimes', 'associated', 'with', 'seizures', ')', ',', 'Anxiety', ',', 'Depression', ',', 'Sleep', 'disorders', ',', 'More', 'severe', 'and', 'rare', 'neurological', 'complications', 'such', 'as', 'strokes', ',', 'brain', 'inflammation', ',', 'delirium', 'and', 'nerve', 'damage.People', 'of', 'all', 'ages', 'who', 'experience', 'fever', 'and/or', 'cough', 'associated', 'with', 'difficulty', 'breathing', 'or', 'shortness', 'of', 'breath', ',', 'chest', 'pain', 'or', 'pressure', ',', 'or', 'loss', 'of', 'speech', 'or', 'movement', 'should', 'seek', 'medical', 'care', 'immediately', '.', 'If', 'possible', ',', 'call', 'your', 'health', 'care', 'provider', ',', 'hotline', 'or', 'health', 'facility', 'first', ',', 'so', 'you', 'can', 'be', 'directed', 'to', 'the', 'right', 'clinic', '.', 'Among', 'those', 'who', 'develop', 'symptoms', ',', 'most', '(', 'about', '80', '%', ')', 'recover', 'from', 'the', 'disease', 'without', 'needing', 'hospital', 'treatment', '.', 'About', '15', '%', 'become', 'seriously', 'ill', 'and', 'require', 'oxygen', 'and', '5', '%', 'become', 'critically', 'ill', 'and', 'need', 'intensive', 'care', '.', 'Complications', 'leading', 'to', 'death', 'may', 'include', 'respiratory', 'failure', ',', 'acute', 'respiratory', 'distress', 'syndrome', '(', 'ARDS', ')', ',', 'sepsis', 'and', 'septic', 'shock', ',', 'thromboembolism', ',', 'and/or', 'multiorgan', 'failure', ',', 'including', 'injury', 'of', 'the', 'heart', ',', 'liver', 'or', 'kidneys', '.', 'In', 'rare', 'situations', ',', 'children', 'can', 'develop', 'a', 'severe', 'inflammatory', 'syndrome', 'a', 'few', 'weeks', 'after', 'infection', '.', 'People', 'aged', '60', 'years', 'and', 'over', ',', 'and', 'those', 'with', 'underlying', 'medical', 'problems', 'like', 'high', 'blood', 'pressure', ',', 'heart', 'and', 'lung', 'problems', ',', 'diabetes', ',', 'obesity', 'or', 'cancer', ',', 'are', 'at', 'higher', 'risk', 'of', 'developing', 'serious', 'illness', '.', 'However', ',', 'anyone', 'can', 'get', 'sick', 'with', 'COVID-19', 'and', 'become', 'seriously', 'ill', 'or', 'die', 'at', 'any', 'age', '.', 'Some', 'people', 'who', 'have', 'had', 'COVID-19', ',', 'whether', 'they', 'have', 'needed', 'hospitalization', 'or', 'not', ',', 'continue', 'to', 'experience', 'symptoms', ',', 'including', 'fatigue', ',', 'respiratory', 'and', 'neurological', 'symptoms', '.', 'WHO', 'is', 'working', 'with', 'our', 'Global', 'Technical', 'Network', 'for', 'Clinical', 'Management', 'of', 'COVID-19', ',', 'researchers', 'and', 'patient', 'groups', 'around', 'the', 'world', 'to', 'design', 'and', 'carry', 'out', 'studies', 'of', 'patients', 'beyond', 'the', 'initial', 'acute', 'course', 'of', 'illness', 'to', 'understand', 'the', 'proportion', 'of', 'patients', 'who', 'have', 'long', 'term', 'effects', ',', 'how', 'long', 'they', 'persist', ',', 'and', 'why', 'they', 'occur', '.', 'These', 'studies', 'will', 'be', 'used', 'to', 'develop', 'further', 'guidance', 'for', 'patient', 'care', '.', 'Stay', 'safe', 'by', 'taking', 'some', 'simple', 'precautions', ',', 'such', 'as', 'physical', 'distancing', ',', 'wearing', 'a', 'mask', ',', 'especially', 'when', 'distancing', 'can', 'not', 'be', 'maintained', ',', 'keeping', 'rooms', 'well', 'ventilated', ',', 'avoiding', 'crowds', 'and', 'close', 'contact', ',', 'regularly', 'cleaning', 'your', 'hands', ',', 'and', 'coughing', 'into', 'a', 'bent', 'elbow', 'or', 'tissue', '.', 'Check', 'local', 'advice', 'where', 'you', 'live', 'and', 'work', '.', 'Do', 'it', 'all', '!', 'Read', 'our', 'public', 'advice', 'page', 'for', 'more', 'information', '.', 'Anyone', 'with', 'symptoms', 'should', 'be', 'tested', ',', 'wherever', 'possible', '.', 'People', 'who', 'do', 'not', 'have', 'symptoms', 'but', 'have', 'had', 'close', 'contact', 'with', 'someone', 'who', 'is', ',', 'or', 'may', 'be', ',', 'infected', 'may', 'also', 'consider', 'testing', '–', 'contact', 'your', 'local', 'health', 'guidelines', 'and', 'follow', 'their', 'guidance', '.', 'While', 'a', 'person', 'is', 'waiting', 'for', 'test', 'results', ',', 'they', 'should', 'remain', 'isolated', 'from', 'others', '.', 'Where', 'testing', 'capacity', 'is', 'limited', ',', 'tests', 'should', 'first', 'be', 'done', 'for', 'those', 'at', 'higher', 'risk', 'of', 'infection', ',', 'such', 'as', 'health', 'workers', ',', 'and', 'those', 'at', 'higher', 'risk', 'of', 'severe', 'illness', 'such', 'as', 'older', 'people', ',', 'especially', 'those', 'living', 'in', 'seniors', '’', 'residences', 'or', 'long-term', 'care', 'facilities', '.', 'In', 'most', 'situations', ',', 'a', 'molecular', 'test', 'is', 'used', 'to', 'detect', 'SARS-CoV-2', 'and', 'confirm', 'infection', '.', 'Polymerase', 'chain', 'reaction', '(', 'PCR', ')', 'is', 'the', 'most', 'commonly', 'used', 'molecular', 'test', '.', 'Samples', 'are', 'collected', 'from', 'the', 'nose', 'and/or', 'throat', 'with', 'a', 'swab', '.', 'Molecular', 'tests', 'detect', 'virus', 'in', 'the', 'sample', 'by', 'amplifying', 'viral', 'genetic', 'material', 'to', 'detectable', 'levels', '.', 'For', 'this', 'reason', ',', 'a', 'molecular', 'test', 'is', 'used', 'to', 'confirm', 'an', 'active', 'infection', ',', 'usually', 'within', 'a', 'few', 'days', 'of', 'exposure', 'and', 'around', 'the', 'time', 'that', 'symptoms', 'may', 'begin', '.', 'Learn', 'more', 'about', 'what', 'kind', 'of', 'COVID-19', 'tests', 'are', 'available', 'Rapid', 'antigen', 'tests', '(', 'sometimes', 'known', 'as', 'a', 'rapid', 'diagnostic', 'test', '–', 'RDT', ')', 'detect', 'viral', 'proteins', '(', 'known', 'as', 'antigens', ')', '.', 'Samples', 'are', 'collected', 'from', 'the', 'nose', 'and/or', 'throat', 'with', 'a', 'swab', '.', 'These', 'tests', 'are', 'cheaper', 'than', 'PCR', 'and', 'will', 'offer', 'results', 'more', 'quickly', ',', 'although', 'they', 'are', 'generally', 'less', 'accurate', '.', 'These', 'tests', 'perform', 'best', 'when', 'there', 'is', 'more', 'virus', 'circulating', 'in', 'the', 'community', 'and', 'when', 'sampled', 'from', 'an', 'individual', 'during', 'the', 'time', 'they', 'are', 'most', 'infectious', '.', '-', 'Learn', 'more', 'about', 'rapid', 'diagnostic', 'test', 'Antibody', 'tests', 'can', 'tell', 'us', 'whether', 'someone', 'has', 'had', 'an', 'infection', 'in', 'the', 'past', ',', 'even', 'if', 'they', 'have', 'not', 'had', 'symptoms', '.', 'Also', 'known', 'as', 'serological', 'tests', 'and', 'usually', 'done', 'on', 'a', 'blood', 'sample', ',', 'these', 'tests', 'detect', 'antibodies', 'produced', 'in', 'response', 'to', 'an', 'infection', '.', 'In', 'most', 'people', ',', 'antibodies', 'start', 'to', 'develop', 'after', 'days', 'to', 'weeks', 'and', 'can', 'indicate', 'if', 'a', 'person', 'has', 'had', 'past', 'infection', '.', 'Antibody', 'tests', 'can', 'not', 'be', 'used', 'to', 'diagnose', 'COVID-19', 'in', 'the', 'early', 'stages', 'of', 'infection', 'or', 'disease', 'but', 'can', 'indicate', 'whether', 'or', 'not', 'someone', 'has', 'had', 'the', 'disease', 'in', 'the', 'past', '.', 'Both', 'isolation', 'and', 'quarantine', 'are', 'methods', 'of', 'preventing', 'the', 'spread', 'of', 'COVID-19.Quarantine', 'is', 'used', 'for', 'anyone', 'who', 'is', 'a', 'contact', 'of', 'someone', 'infected', 'with', 'the', 'SARS-CoV-2', 'virus', ',', 'which', 'causes', 'COVID-19', ',', 'whether', 'the', 'infected', 'person', 'has', 'symptoms', 'or', 'not', '.', 'Quarantine', 'means', 'that', 'you', 'remain', 'separated', 'from', 'others', 'because', 'you', 'have', 'been', 'exposed', 'to', 'the', 'virus', 'and', 'you', 'may', 'be', 'infected', 'and', 'can', 'take', 'place', 'in', 'a', 'designated', 'facility', 'or', 'at', 'home', '.', 'For', 'COVID-19', ',', 'this', 'means', 'staying', 'in', 'the', 'facility', 'or', 'at', 'home', 'for', '14', 'days', '.', 'Isolation', 'is', 'used', 'for', 'people', 'with', 'COVID-19', 'symptoms', 'or', 'who', 'have', 'tested', 'positive', 'for', 'the', 'virus', '.', 'Being', 'in', 'isolation', 'means', 'being', 'separated', 'from', 'other', 'people', ',', 'ideally', 'in', 'a', 'medically', 'facility', 'where', 'you', 'can', 'receive', 'clinical', 'care', '.', 'If', 'isolation', 'in', 'a', 'medical', 'facility', 'is', 'not', 'possible', 'and', 'you', 'are', 'not', 'in', 'a', 'high', 'risk', 'group', 'of', 'developing', 'severe', 'disease', ',', 'isolation', 'can', 'take', 'place', 'at', 'home', '.', 'If', 'you', 'have', 'symptoms', ',', 'you', 'should', 'remain', 'in', 'isolation', 'for', 'at', 'least', '10', 'days', 'plus', 'an', 'additional', '3', 'days', 'without', 'symptoms', '.', 'If', 'you', 'are', 'infected', 'and', 'do', 'not', 'develop', 'symptoms', ',', 'you', 'should', 'remain', 'in', 'isolation', 'for', '10', 'days', 'from', 'the', 'time', 'you', 'test', 'positive', '.', 'If', 'you', 'have', 'been', 'exposed', 'to', 'someone', 'with', 'COVID-19', ',', 'you', 'may', 'become', 'infected', ',', 'even', 'if', 'you', 'feel', 'well', '.', 'After', 'exposure', 'to', 'someone', 'who', 'has', 'COVID-19', ',', 'do', 'the', 'following', ':', 'Call', 'your', 'health', 'care', 'provider', 'or', 'COVID-19', 'hotline', 'to', 'find', 'out', 'where', 'and', 'when', 'to', 'get', 'a', 'test', '.', 'Cooperate', 'with', 'contact-tracing', 'procedures', 'to', 'stop', 'the', 'spread', 'of', 'the', 'virus', '.', 'If', 'testing', 'is', 'not', 'available', ',', 'stay', 'home', 'and', 'away', 'from', 'others', 'for', '14', 'days', '.', 'While', 'you', 'are', 'in', 'quarantine', ',', 'do', 'not', 'go', 'to', 'work', ',', 'to', 'school', 'or', 'to', 'public', 'places', '.', 'Ask', 'someone', 'to', 'bring', 'you', 'supplies.Keep', 'at', 'least', 'a', '1-metre', 'distance', 'from', 'others', ',', 'even', 'from', 'your', 'family', 'members', '.', 'Wear', 'a', 'medical', 'mask', 'to', 'protect', 'others', ',', 'including', 'if/when', 'you', 'need', 'to', 'seek', 'medical', 'care.Clean', 'your', 'hands', 'frequently.Stay', 'in', 'a', 'separate', 'room', 'from', 'other', 'family', 'members', ',', 'and', 'if', 'not', 'possible', ',', 'wear', 'a', 'medical', 'mask.Keep', 'the', 'room', 'well-ventilated.If', 'you', 'share', 'a', 'room', ',', 'place', 'beds', 'at', 'least', '1', 'metre', 'apart.Monitor', 'yourself', 'for', 'any', 'symptoms', 'for', '14', 'days', '.', 'Stay', 'positive', 'by', 'keeping', 'in', 'touch', 'with', 'loved', 'ones', 'by', 'phone', 'or', 'online', ',', 'and', 'by', 'exercising', 'at', 'home.If', 'you', 'live', 'in', 'an', 'area', 'with', 'malaria', 'or', 'dengue', 'fever', ',', 'seek', 'medical', 'help', 'if', 'you', 'have', 'a', 'fever', '.', 'While', 'travelling', 'to', 'and', 'from', 'the', 'health', 'facility', 'and', 'during', 'medical', 'care', ',', 'wear', 'a', 'mask', ',', 'keep', 'at', 'least', 'a', '1-metre', 'distance', 'from', 'other', 'people', 'and', 'avoid', 'touching', 'surfaces', 'with', 'your', 'hands', '.', 'This', 'applies', 'to', 'adults', 'and', 'children', '.', 'Read', 'our', 'malaria', 'and', 'COVID-19', 'Q', '&', 'A', 'for', 'more', 'information', '.', 'The', 'time', 'from', 'exposure', 'to', 'COVID-19', 'to', 'the', 'moment', 'when', 'symptoms', 'begin', 'is', ',', 'on', 'average', ',', '5-6', 'days', 'and', 'can', 'range', 'from', '1-14', 'days', '.', 'This', 'is', 'why', 'people', 'who', 'have', 'been', 'exposed', 'to', 'the', 'virus', 'are', 'advised', 'to', 'remain', 'at', 'home', 'and', 'stay', 'away', 'from', 'others', ',', 'for', '14', 'days', ',', 'in', 'order', 'to', 'prevent', 'the', 'spread', 'of', 'the', 'virus', ',', 'especially', 'where', 'testing', 'is', 'not', 'easily', 'available', '.', 'Yes', '.', 'The', 'first', 'mass', 'vaccination', 'programme', 'started', 'in', 'early', 'December', '2020', 'and', 'the', 'number', 'of', 'vaccination', 'doses', 'administered', 'is', 'updated', 'on', 'a', 'daily', 'basis', 'here', '.', 'At', 'least', '13', 'different', 'vaccines', '(', 'across', '4', 'platforms', ')', 'have', 'been', 'administered', '.', 'Campaigns', 'have', 'started', 'in', '206', 'economies.The', 'Pfizer/BioNtech', 'Comirnaty', 'vaccine', 'was', 'listed', 'for', 'WHO', 'Emergency', 'Use', 'Listing', '(', 'EUL', ')', 'on', '31', 'December', '2020', '.', 'The', 'SII/Covishield', 'and', 'AstraZeneca/AZD1222', 'vaccines', '(', 'developed', 'by', 'AstraZeneca/Oxford', 'and', 'manufactured', 'by', 'the', 'Serum', 'Institute', 'of', 'India', 'and', 'SK', 'Bio', 'respectively', ')', 'were', 'given', 'EUL', 'on', '16', 'February', '.', 'The', 'Janssen/Ad26.COV', '2.S', 'developed', 'by', 'Johnson', '&', 'Johnson', ',', 'was', 'listed', 'for', 'EUL', 'on', '12', 'March', '2021', '.', 'The', 'Moderna', 'COVID-19', 'vaccine', '(', 'mRNA', '1273', ')', 'was', 'listed', 'for', 'EUL', 'on', '30', 'April', '2021', 'and', 'the', 'Sinopharm', 'COVID-19', 'vaccine', 'was', 'listed', 'for', 'EUL', 'on', '7', 'May', '2021', '.', 'The', 'Sinopharm', 'vaccine', 'is', 'produced', 'by', 'Beijing', 'Bio-Institute', 'of', 'Biological', 'Products', 'Co', 'Ltd', ',', 'subsidiary', 'of', 'China', 'National', 'Biotec', 'Group', '(', 'CNBG', ')', '.For', 'further', 'information', ',', 'see', 'here.Once', 'vaccines', 'are', 'demonstrated', 'to', 'be', 'safe', 'and', 'efficacious', ',', 'they', 'must', 'be', 'approved', 'by', 'national', 'regulators', ',', 'manufactured', 'to', 'exacting', 'standards', ',', 'and', 'distributed', '.', 'WHO', 'is', 'working', 'with', 'partners', 'around', 'the', 'world', 'to', 'help', 'coordinate', 'key', 'steps', 'in', 'this', 'process', ',', 'including', 'to', 'facilitate', 'equitable', 'access', 'to', 'safe', 'and', 'effective', 'COVID-19', 'vaccines', 'for', 'the', 'billions', 'of', 'people', 'who', 'will', 'need', 'them', '.', 'More', 'information', 'about', 'COVID-19', 'vaccine', 'development', 'is', 'available', 'here', '.', 'If', 'you', 'have', 'any', 'symptoms', 'suggestive', 'of', 'COVID-19', ',', 'call', 'your', 'health', 'care', 'provider', 'or', 'COVID-19', 'hotline', 'for', 'instructions', 'and', 'find', 'out', 'when', 'and', 'where', 'to', 'get', 'a', 'test', ',', 'stay', 'at', 'home', 'for', '14', 'days', 'away', 'from', 'others', 'and', 'monitor', 'your', 'health', '.', 'If', 'you', 'have', 'shortness', 'of', 'breath', 'or', 'pain', 'or', 'pressure', 'in', 'the', 'chest', ',', 'seek', 'medical', 'attention', 'at', 'a', 'health', 'facility', 'immediately', '.', 'Call', 'your', 'health', 'care', 'provider', 'or', 'hotline', 'in', 'advance', 'for', 'direction', 'to', 'the', 'right', 'health', 'facility', '.', 'If', 'you', 'live', 'in', 'an', 'area', 'with', 'malaria', 'or', 'dengue', 'fever', ',', 'seek', 'medical', 'care', 'if', 'you', 'have', 'a', 'fever.If', 'local', 'guidance', 'recommends', 'visiting', 'a', 'medical', 'centre', 'for', 'testing', ',', 'assessment', 'or', 'isolation', ',', 'wear', 'a', 'medical', 'mask', 'while', 'travelling', 'to', 'and', 'from', 'the', 'facility', 'and', 'during', 'medical', 'care', '.', 'Also', 'keep', 'at', 'least', 'a', '1-metre', 'distance', 'from', 'other', 'people', 'and', 'avoid', 'touching', 'surfaces', 'with', 'your', 'hands', '.', 'This', 'applies', 'to', 'adults', 'and', 'children', '.', 'Scientists', 'around', 'the', 'world', 'are', 'working', 'to', 'find', 'and', 'develop', 'treatments', 'for', 'COVID-19', '.', 'Optimal', 'supportive', 'care', 'includes', 'oxygen', 'for', 'severely', 'ill', 'patients', 'and', 'those', 'who', 'are', 'at', 'risk', 'for', 'severe', 'disease', 'and', 'more', 'advanced', 'respiratory', 'support', 'such', 'as', 'ventilation', 'for', 'patients', 'who', 'are', 'critically', 'ill.', 'Dexamethasone', 'is', 'a', 'corticosteroid', 'that', 'can', 'help', 'reduce', 'the', 'length', 'of', 'time', 'on', 'a', 'ventilator', 'and', 'save', 'lives', 'of', 'patients', 'with', 'severe', 'and', 'critical', 'illness', '.', 'Read', 'our', 'dexamethasone', 'Q', '&', 'A', 'for', 'more', 'information', '.', 'Results', 'from', 'the', 'WHO', '’', 's', 'Solidarity', 'Trial', 'indicated', 'that', 'remdesivir', ',', 'hydroxychloroquine', ',', 'lopinavir/ritonavir', 'and', 'interferon', 'regimens', 'appear', 'to', 'have', 'little', 'or', 'no', 'effect', 'on', '28-day', 'mortality', 'or', 'the', 'in-hospital', 'course', 'of', 'COVID-19', 'among', 'hospitalized', 'patients', '.', 'Hydroxychloroquine', 'has', 'not', 'been', 'shown', 'to', 'offer', 'any', 'benefit', 'for', 'treatment', 'of', 'COVID-19', '.', 'Read', 'our', 'hydroxychloroquine', 'Q', '&', 'A', 'for', 'more', 'information', '.', 'WHO', 'does', 'not', 'recommend', 'self-medication', 'with', 'any', 'medicines', ',', 'including', 'antibiotics', ',', 'as', 'a', 'prevention', 'or', 'cure', 'for', 'COVID-19', '.', 'WHO', 'is', 'coordinating', 'efforts', 'to', 'develop', 'treatments', 'for', 'COVID-19', 'and', 'will', 'continue', 'to', 'provide', 'new', 'information', 'as', 'it', 'becomes', 'available', '.', 'Antibiotics', 'do', 'not', 'work', 'against', 'viruses', ';', 'they', 'only', 'work', 'on', 'bacterial', 'infections', '.', 'COVID-19', 'is', 'caused', 'by', 'a', 'virus', ',', 'so', 'antibiotics', 'do', 'not', 'work', '.', 'Antibiotics', 'should', 'not', 'be', 'used', 'as', 'a', 'means', 'of', 'prevention', 'or', 'treatment', 'of', 'COVID-19.In', 'hospitals', ',', 'physicians', 'will', 'sometimes', 'use', 'antibiotics', 'to', 'prevent', 'or', 'treat', 'secondary', 'bacterial', 'infections', 'which', 'can', 'be', 'a', 'complication', 'of', 'COVID-19', 'in', 'severely', 'ill', 'patients', '.', 'They', 'should', 'only', 'be', 'used', 'as', 'directed', 'by', 'a', 'physician', 'to', 'treat', 'a', 'bacterial', 'infection', '.']\n",
      "['\\n\\nCOVID-19 is the disease caused by a new coronavirus called SARS-CoV-2.', 'WHO first learned of this new virus on 31 December 2019, following a report of a cluster of cases of ‘viral pneumonia’ in Wuhan, People’s Republic of China.', '\\n\\nThe most common symptoms of COVID-19 areFeverDry coughFatigueOther symptoms that are less common and may affect some patients include:Loss of taste or smell,Nasal congestion,Conjunctivitis (also known as red eyes)Sore throat,Headache,Muscle or joint pain,Different types of skin rash,Nausea or vomiting,Diarrhea,Chills or dizziness.', 'Symptoms of severe COVID‐19 disease include:Shortness of breath,Loss of appetite,Confusion,Persistent pain or pressure in the chest,High temperature (above 38 °C).Other less common symptoms are:Irritability,Confusion,Reduced consciousness (sometimes associated with seizures),Anxiety,Depression,Sleep disorders,More severe and rare neurological complications such as strokes, brain inflammation, delirium and nerve damage.People of all ages who experience fever and/or cough associated with difficulty breathing or shortness of breath, chest pain or pressure, or loss of speech or movement should seek medical care immediately.', 'If possible, call your health care provider,\\r\\n            hotline or health facility first, so you can be directed to the right clinic.', '\\n\\nAmong those who develop symptoms, most (about 80%) recover from the disease without needing hospital treatment.', 'About 15% become seriously ill and require oxygen and 5% become critically ill and need intensive care.', 'Complications leading to death may include respiratory failure, acute respiratory distress syndrome (ARDS), sepsis and septic shock, thromboembolism, and/or multiorgan failure, including injury of the heart, liver or kidneys.', 'In rare situations, children can develop a severe inflammatory syndrome a few weeks after infection.', '\\n\\nPeople aged 60 years and over, and those with underlying medical problems like high blood pressure, heart and lung problems, diabetes, obesity or cancer, are at higher risk of developing serious illness.', 'However, anyone can get sick with COVID-19 and become seriously ill or die at any age.', '\\n\\nSome people who have had COVID-19, whether they have needed hospitalization or not, continue to experience symptoms, including fatigue, respiratory and neurological symptoms.', 'WHO is working with our Global Technical Network for Clinical Management of COVID-19, researchers and patient groups around the world to design and carry out studies of patients beyond the initial acute course of illness to understand the proportion of patients who have long term effects, how long they persist, and why they occur.', 'These studies will be used to develop further guidance for patient care.', '\\n\\nStay safe by taking some simple precautions, such as physical distancing, wearing a mask, especially when distancing cannot be maintained, keeping rooms well ventilated, avoiding crowds and close contact, regularly cleaning your hands, and coughing into a bent elbow or tissue.', 'Check local advice where you live and work.', 'Do it all!Read our public advice page for more information.', '\\n\\nAnyone with symptoms should be tested, wherever possible.', 'People who do not have symptoms but have had close contact with someone who is, or may be, infected may also consider testing – contact your local health guidelines and follow their guidance.', 'While a person is waiting for test results, they should remain isolated from others.', 'Where testing capacity is limited, tests should first be done for those at higher risk of infection, such as health workers, and those at higher risk of severe illness such as older people, especially those living in seniors’ residences or long-term care facilities.', '\\n\\nIn most situations, a molecular test is used to detect SARS-CoV-2 and confirm infection.', 'Polymerase chain reaction (PCR) is the most commonly used molecular test.', 'Samples are collected from the nose and/or throat with a swab.', 'Molecular tests detect virus in the sample by amplifying viral genetic material to detectable levels.', 'For this reason, a molecular test is used to confirm an active infection, usually within a few days of exposure and around the time that symptoms may begin.', 'Learn more about what kind of COVID-19 tests are available', '\\n\\nRapid antigen tests (sometimes known as a rapid diagnostic test – RDT) detect viral proteins (known as antigens).', 'Samples are collected from the nose and/or throat with a swab.', 'These tests are cheaper than PCR and will offer results more quickly, although they are generally less accurate.', 'These tests perform best when there is more virus circulating in the community and when sampled from an individual during the time they are most infectious.', '- Learn more about rapid diagnostic test', '\\n\\nAntibody tests can tell us whether someone has had an infection in the past, even if they have not had symptoms.', 'Also known as serological tests and usually done on a blood sample, these tests detect antibodies produced in response to an infection.', 'In most people, antibodies start to develop after days to weeks and can indicate if a person has had past infection.', 'Antibody tests cannot be used to diagnose COVID-19 in the early stages of infection or disease but can indicate whether or not someone has had the disease in the past.', '\\n\\n\\xa0Both isolation and quarantine are methods of preventing the spread of COVID-19.Quarantine is used for anyone who is a contact of someone infected with the SARS-CoV-2 virus, which causes COVID-19, whether the infected person has symptoms or not.', 'Quarantine means that you remain separated from others because you have been exposed to the virus and you may be infected and can take place in a designated facility or at home.', 'For COVID-19, this means staying in the facility or at home for 14 days.', 'Isolation is used for people with COVID-19 symptoms or who have tested positive for the virus.', 'Being in isolation means being separated from other people, ideally in a medically facility where you can receive clinical care.', 'If isolation in a medical facility is not possible and you are not in a high risk group of developing severe disease, isolation can take place at home.', 'If you have symptoms, you should remain in isolation for at least 10 days plus an additional 3 days without symptoms.', 'If you are infected and do not develop symptoms, you should remain in isolation for 10 days from the time you test positive.', '\\n\\nIf you have been exposed to someone with COVID-19, you may become infected, even if you feel well.', 'After exposure to someone who has COVID-19, do the following: Call your health care provider or COVID-19 hotline to find out where and when to get a test.', 'Cooperate with contact-tracing procedures to stop the spread of the virus.', 'If testing is not available, stay home and away from others for 14 days.', 'While you are in quarantine, do not go to work, to school or to public places.', 'Ask someone to bring you supplies.Keep at least a 1-metre distance from others, even from your family members.', 'Wear a medical mask to protect others, including if/when you need to seek medical care.Clean your hands frequently.Stay in a separate room from other family members, and if not possible, wear a medical mask.Keep the room well-ventilated.If you share a room, place beds at least 1 metre apart.Monitor yourself for any symptoms for 14 days.', 'Stay positive by keeping in touch with loved ones by phone or online, and by exercising at home.If you live in an area with malaria or dengue fever, seek medical help if you have a fever.', 'While travelling to and from the health facility and during medical care, wear a mask, keep at least a 1-metre distance from other people and avoid touching surfaces with your hands.', 'This applies to adults and children.', 'Read our malaria and COVID-19 Q&A for more information.', '\\n\\nThe time from exposure to COVID-19 to the moment when symptoms begin is, on average, 5-6 days and can range from 1-14 days.', 'This is why people who have been exposed to the virus are advised to remain at home and stay away from others, for 14 days, in order to prevent the spread of the virus, especially where testing is not easily available.', '\\n\\nYes.', 'The first mass vaccination programme started in early December 2020 and the number of vaccination doses administered is updated on a daily basis here.', 'At least 13 different vaccines (across 4 platforms) have been administered.', 'Campaigns have started in 206 economies.The Pfizer/BioNtech Comirnaty vaccine was listed for WHO Emergency Use Listing (EUL) on 31 December 2020.', 'The SII/Covishield and AstraZeneca/AZD1222 vaccines (developed by AstraZeneca/Oxford and manufactured by the Serum Institute of India and SK Bio respectively) were given EUL on 16 February.', 'The Janssen/Ad26.COV 2.S developed by Johnson & Johnson, was listed for EUL on 12 March 2021.', 'The Moderna COVID-19 vaccine (mRNA 1273) was listed for EUL on 30 April 2021 and the Sinopharm COVID-19 vaccine was listed for EUL on 7 May 2021.', 'The Sinopharm vaccine is produced by Beijing Bio-Institute of Biological Products Co Ltd, subsidiary of China National Biotec Group (CNBG).For further information, see here.Once vaccines are demonstrated to be safe and efficacious, they must be approved by national regulators, manufactured to exacting standards, and distributed.', 'WHO is working with partners around the world to help coordinate key steps in this process, including to facilitate equitable access to safe and effective COVID-19 vaccines for the billions of people who will need them.', 'More information about COVID-19 vaccine development is available here.', '\\n\\nIf you have any symptoms suggestive of COVID-19, call your health care provider or COVID-19 hotline for instructions and find out when and where to get a test, stay at home for 14 days away from others and monitor your health.', 'If you have shortness of breath or pain or pressure in the chest, seek medical attention at a health facility immediately.', 'Call your health care provider or hotline in advance for direction to the right health facility.', 'If you live in an area with malaria or dengue fever, seek medical care if you have a fever.If local guidance recommends visiting a medical centre for testing, assessment or isolation, wear a medical mask while travelling to and from the facility and during medical care.', 'Also keep at least a 1-metre distance from other people and avoid touching surfaces with your hands.', 'This applies to adults and children.', '\\n\\nScientists around the world are working to find and develop treatments for COVID-19.', 'Optimal supportive care includes oxygen for severely ill patients and those who are at risk for severe disease and more advanced respiratory support such as ventilation for patients who are critically ill. Dexamethasone is a corticosteroid that can help reduce the length of time on a ventilator and save lives of patients with severe and critical illness.', 'Read our dexamethasone Q&A for more information.', 'Results from the WHO’s Solidarity Trial indicated that remdesivir, hydroxychloroquine, lopinavir/ritonavir and interferon regimens appear to have little or no effect on 28-day mortality or the in-hospital course of COVID-19 among hospitalized patients.', 'Hydroxychloroquine has not been shown to offer any benefit for treatment of COVID-19.', 'Read our hydroxychloroquine Q&A for more information.', 'WHO does not recommend self-medication with any medicines, including antibiotics, as a prevention or cure for COVID-19.', 'WHO is coordinating efforts to develop treatments for COVID-19 and will continue to provide new information as it becomes available.', '\\n\\nAntibiotics do not work against viruses; they only work on bacterial infections.', 'COVID-19 is caused by a virus, so antibiotics do not work.', 'Antibiotics should not be used as a means of prevention or treatment of COVID-19.In hospitals, physicians will sometimes use antibiotics to prevent or treat secondary bacterial infections which can be a complication of COVID-19 in severely ill patients.', 'They should only be used as directed by a physician to treat a bacterial infection.']\n"
     ]
    }
   ],
   "source": [
    "soup=bs4.BeautifulSoup(res.text,'lxml')\n",
    "sent_token=[]\n",
    "word_token=[]\n",
    "for i in soup.select('.sf-accordion__content'):\n",
    "    \n",
    "    corpus=i.text\n",
    "    sent_token_list = nltk.sent_tokenize(corpus)\n",
    "    word_token_list = nltk.word_tokenize(corpus)\n",
    "    sentence=nltk.sent_tokenize(corpus)\n",
    "    word_token=word_token+word_token_list\n",
    "    sent_token=sent_token+sent_token_list\n",
    "   \n",
    "print(word_token)\n",
    "print(sent_token)"
   ]
  },
  {
   "cell_type": "code",
   "execution_count": 8,
   "id": "105fafe2",
   "metadata": {},
   "outputs": [],
   "source": [
    "lemmer = nltk.stem.WordNetLemmatizer()"
   ]
  },
  {
   "cell_type": "code",
   "execution_count": 9,
   "id": "718fb9fe",
   "metadata": {},
   "outputs": [],
   "source": [
    "def lemmer_tokens(tokens):\n",
    "    return[lemmer.lemmatize(token) for token in tokens]"
   ]
  },
  {
   "cell_type": "code",
   "execution_count": 10,
   "id": "eb4cc662",
   "metadata": {},
   "outputs": [],
   "source": [
    "remove_punct = dict((ord(punct), None) for punct in string.punctuation)\n"
   ]
  },
  {
   "cell_type": "code",
   "execution_count": 11,
   "id": "03e815c1",
   "metadata": {},
   "outputs": [],
   "source": [
    "def lemmer_normalize(text):\n",
    "    return lemmer_tokens(nltk.word_tokenize(text.lower().translate(remove_punct)))"
   ]
  },
  {
   "cell_type": "code",
   "execution_count": 12,
   "id": "e2eeec8b",
   "metadata": {},
   "outputs": [],
   "source": [
    "GREETING_INPUT = ('hi','hai', 'hello', 'hey', 'greetings my friend')\n",
    "\n",
    "GREETING_RESPONSE = ['Are you talking to me?', 'Nice to hear you', 'Hi my friend!']"
   ]
  },
  {
   "cell_type": "code",
   "execution_count": 13,
   "id": "85d6ae1b",
   "metadata": {},
   "outputs": [],
   "source": [
    "def greeting(sentence):\n",
    "    for word in sentence.split():\n",
    "        if word.lower() in GREETING_INPUT:\n",
    "            return random.choice(GREETING_RESPONSE)"
   ]
  },
  {
   "cell_type": "code",
   "execution_count": 14,
   "id": "f67867c1",
   "metadata": {},
   "outputs": [],
   "source": [
    "from sklearn.feature_extraction.text import TfidfVectorizer\n",
    "from sklearn.metrics.pairwise import cosine_similarity"
   ]
  },
  {
   "cell_type": "code",
   "execution_count": 15,
   "id": "c8f8f06e",
   "metadata": {},
   "outputs": [],
   "source": [
    "def response(user_response):\n",
    "    rat_response = ''\n",
    "\n",
    "    TfidfVec = TfidfVectorizer(tokenizer=lemmer_normalize, stop_words='english')\n",
    "\n",
    "    tfidf = TfidfVec.fit_transform(sent_token)\n",
    "    vals = cosine_similarity(tfidf[-1], tfidf)\n",
    "    idx = vals.argsort()[0][-2]\n",
    "    flat = vals.flatten()\n",
    "    flat.sort()\n",
    "    req_tfidf = flat[-2]\n",
    "\n",
    "    if req_tfidf == 0:\n",
    "        rat_response = rat_response + \"I don't understand,Can you say it again!\"\n",
    "        return rat_response\n",
    "    else:\n",
    "        rat_response = rat_response + sent_token[idx]\n",
    "        return rat_response"
   ]
  },
  {
   "cell_type": "code",
   "execution_count": null,
   "id": "fc63de5a",
   "metadata": {},
   "outputs": [
    {
     "name": "stdout",
     "output_type": "stream",
     "text": [
      "Chat Bot: Ask me anythng about Covid-19.I will answer your queries about Space. If you want to exit, type Bye!\n",
      "hi\n",
      "Chat Bot: hey dude, nice to hear you\n",
      "What is COVID-19?\n",
      "Chat Bot: After exposure to someone who has COVID-19, do the following: Call your health care provider or COVID-19 hotline to find out where and when to get a test.\n",
      "What are the symptoms of COVID-19?\n",
      "Chat Bot: \n",
      "\n",
      "Some people who have had COVID-19, whether they have needed hospitalization or not, continue to experience symptoms, including fatigue, respiratory and neurological symptoms.\n"
     ]
    }
   ],
   "source": [
    "flag = True\n",
    "\n",
    "print(\"Chat Bot: Ask me anythng about Covid-19.\\\n",
    "I will answer your queries about Space. If you want to exit, type Bye!\")\n",
    "while flag is True:\n",
    "    user_response = input()\n",
    "    user_response = user_response.lower()\n",
    "    if user_response != 'bye':\n",
    "        if user_response == 'thanks' or user_response == 'thank you':\n",
    "            flag = False\n",
    "            print(\"Chat Bot: You are welcome..\")\n",
    "        else:\n",
    "            if greeting(user_response) is not None:\n",
    "                print(\"Chat Bot: \" + greeting(user_response))\n",
    "            else:\n",
    "                sent_token.append(user_response)\n",
    "                word_token = word_token + nltk.word_tokenize(user_response)\n",
    "                final_words = list(set(word_token))\n",
    "                print(\"Chat Bot: \", end=\"\")\n",
    "                print(response(user_response))\n",
    "                sent_token.remove(user_response)\n",
    "    else:\n",
    "        flag = False\n",
    "        print(\"Chat Bot: Bye! take care..\")"
   ]
  },
  {
   "cell_type": "code",
   "execution_count": null,
   "id": "41a2a82d",
   "metadata": {},
   "outputs": [],
   "source": []
  },
  {
   "cell_type": "code",
   "execution_count": null,
   "id": "2ab97e9a",
   "metadata": {},
   "outputs": [],
   "source": []
  }
 ],
 "metadata": {
  "kernelspec": {
   "display_name": "Python 3",
   "language": "python",
   "name": "python3"
  },
  "language_info": {
   "codemirror_mode": {
    "name": "ipython",
    "version": 3
   },
   "file_extension": ".py",
   "mimetype": "text/x-python",
   "name": "python",
   "nbconvert_exporter": "python",
   "pygments_lexer": "ipython3",
   "version": "3.8.8"
  }
 },
 "nbformat": 4,
 "nbformat_minor": 5
}
